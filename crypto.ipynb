{
  "nbformat": 4,
  "nbformat_minor": 0,
  "metadata": {
    "colab": {
      "name": "crypto.ipynb",
      "provenance": [],
      "collapsed_sections": []
    },
    "kernelspec": {
      "name": "python3",
      "display_name": "Python 3"
    },
    "language_info": {
      "name": "python"
    }
  },
  "cells": [
    {
      "cell_type": "code",
      "metadata": {
        "id": "YSfvSMX0tU8V"
      },
      "source": [
        "import math\n",
        "import matplotlib.pyplot as plt\n",
        "import keras\n",
        "import pandas as pd\n",
        "import numpy as np\n",
        "from keras.models import Sequential\n",
        "from keras.layers import Dense\n",
        "from keras.layers import LSTM\n",
        "from keras.layers import Dropout\n",
        "from keras.layers import *\n",
        "from sklearn.preprocessing import MinMaxScaler\n",
        "from sklearn.metrics import mean_squared_error\n",
        "from sklearn.metrics import mean_absolute_error\n",
        "from sklearn.model_selection import train_test_split\n",
        "from keras.callbacks import EarlyStopping"
      ],
      "execution_count": null,
      "outputs": []
    },
    {
      "cell_type": "code",
      "metadata": {
        "id": "pxdNoKxYtU_U"
      },
      "source": [
        "# Loads dataset into pandas DataFrame\n"
      ],
      "execution_count": null,
      "outputs": []
    },
    {
      "cell_type": "code",
      "metadata": {
        "colab": {
          "base_uri": "https://localhost:8080/",
          "height": 419
        },
        "id": "v9BTnysrt6ew",
        "outputId": "365a00aa-fb31-4a18-d20c-e3ff1f517cff"
      },
      "source": [
        "df= pd.read_csv('/content/coin_BinanceCoin.csv')\n",
        "df"
      ],
      "execution_count": null,
      "outputs": [
        {
          "output_type": "execute_result",
          "data": {
            "text/html": [
              "<div>\n",
              "<style scoped>\n",
              "    .dataframe tbody tr th:only-of-type {\n",
              "        vertical-align: middle;\n",
              "    }\n",
              "\n",
              "    .dataframe tbody tr th {\n",
              "        vertical-align: top;\n",
              "    }\n",
              "\n",
              "    .dataframe thead th {\n",
              "        text-align: right;\n",
              "    }\n",
              "</style>\n",
              "<table border=\"1\" class=\"dataframe\">\n",
              "  <thead>\n",
              "    <tr style=\"text-align: right;\">\n",
              "      <th></th>\n",
              "      <th>SNo</th>\n",
              "      <th>Name</th>\n",
              "      <th>Symbol</th>\n",
              "      <th>Date</th>\n",
              "      <th>High</th>\n",
              "      <th>Low</th>\n",
              "      <th>Open</th>\n",
              "      <th>Close</th>\n",
              "      <th>Volume</th>\n",
              "      <th>Marketcap</th>\n",
              "    </tr>\n",
              "  </thead>\n",
              "  <tbody>\n",
              "    <tr>\n",
              "      <th>0</th>\n",
              "      <td>1</td>\n",
              "      <td>Binance Coin</td>\n",
              "      <td>BNB</td>\n",
              "      <td>2017-07-26 23:59:59</td>\n",
              "      <td>0.109013</td>\n",
              "      <td>0.099266</td>\n",
              "      <td>0.105893</td>\n",
              "      <td>0.105138</td>\n",
              "      <td>2.003950e+05</td>\n",
              "      <td>1.051380e+07</td>\n",
              "    </tr>\n",
              "    <tr>\n",
              "      <th>1</th>\n",
              "      <td>2</td>\n",
              "      <td>Binance Coin</td>\n",
              "      <td>BNB</td>\n",
              "      <td>2017-07-27 23:59:59</td>\n",
              "      <td>0.108479</td>\n",
              "      <td>0.100888</td>\n",
              "      <td>0.105108</td>\n",
              "      <td>0.107737</td>\n",
              "      <td>3.444990e+05</td>\n",
              "      <td>1.077370e+07</td>\n",
              "    </tr>\n",
              "    <tr>\n",
              "      <th>2</th>\n",
              "      <td>3</td>\n",
              "      <td>Binance Coin</td>\n",
              "      <td>BNB</td>\n",
              "      <td>2017-07-28 23:59:59</td>\n",
              "      <td>0.109019</td>\n",
              "      <td>0.101473</td>\n",
              "      <td>0.107632</td>\n",
              "      <td>0.104067</td>\n",
              "      <td>3.425680e+05</td>\n",
              "      <td>1.040670e+07</td>\n",
              "    </tr>\n",
              "    <tr>\n",
              "      <th>3</th>\n",
              "      <td>4</td>\n",
              "      <td>Binance Coin</td>\n",
              "      <td>BNB</td>\n",
              "      <td>2017-07-29 23:59:59</td>\n",
              "      <td>0.111264</td>\n",
              "      <td>0.101108</td>\n",
              "      <td>0.104782</td>\n",
              "      <td>0.107811</td>\n",
              "      <td>3.402180e+05</td>\n",
              "      <td>1.078110e+07</td>\n",
              "    </tr>\n",
              "    <tr>\n",
              "      <th>4</th>\n",
              "      <td>5</td>\n",
              "      <td>Binance Coin</td>\n",
              "      <td>BNB</td>\n",
              "      <td>2017-07-30 23:59:59</td>\n",
              "      <td>0.108138</td>\n",
              "      <td>0.103162</td>\n",
              "      <td>0.107935</td>\n",
              "      <td>0.106414</td>\n",
              "      <td>2.242610e+05</td>\n",
              "      <td>1.064140e+07</td>\n",
              "    </tr>\n",
              "    <tr>\n",
              "      <th>...</th>\n",
              "      <td>...</td>\n",
              "      <td>...</td>\n",
              "      <td>...</td>\n",
              "      <td>...</td>\n",
              "      <td>...</td>\n",
              "      <td>...</td>\n",
              "      <td>...</td>\n",
              "      <td>...</td>\n",
              "      <td>...</td>\n",
              "      <td>...</td>\n",
              "    </tr>\n",
              "    <tr>\n",
              "      <th>1308</th>\n",
              "      <td>1309</td>\n",
              "      <td>Binance Coin</td>\n",
              "      <td>BNB</td>\n",
              "      <td>2021-02-23 23:59:59</td>\n",
              "      <td>268.536845</td>\n",
              "      <td>190.412463</td>\n",
              "      <td>267.364425</td>\n",
              "      <td>230.994252</td>\n",
              "      <td>8.280753e+09</td>\n",
              "      <td>3.569619e+10</td>\n",
              "    </tr>\n",
              "    <tr>\n",
              "      <th>1309</th>\n",
              "      <td>1310</td>\n",
              "      <td>Binance Coin</td>\n",
              "      <td>BNB</td>\n",
              "      <td>2021-02-24 23:59:59</td>\n",
              "      <td>280.088196</td>\n",
              "      <td>214.524714</td>\n",
              "      <td>231.121604</td>\n",
              "      <td>254.359132</td>\n",
              "      <td>7.154122e+09</td>\n",
              "      <td>3.930683e+10</td>\n",
              "    </tr>\n",
              "    <tr>\n",
              "      <th>1310</th>\n",
              "      <td>1311</td>\n",
              "      <td>Binance Coin</td>\n",
              "      <td>BNB</td>\n",
              "      <td>2021-02-25 23:59:59</td>\n",
              "      <td>264.705134</td>\n",
              "      <td>233.885956</td>\n",
              "      <td>254.467606</td>\n",
              "      <td>233.885956</td>\n",
              "      <td>4.059853e+09</td>\n",
              "      <td>3.614305e+10</td>\n",
              "    </tr>\n",
              "    <tr>\n",
              "      <th>1311</th>\n",
              "      <td>1312</td>\n",
              "      <td>Binance Coin</td>\n",
              "      <td>BNB</td>\n",
              "      <td>2021-02-26 23:59:59</td>\n",
              "      <td>238.755012</td>\n",
              "      <td>210.310761</td>\n",
              "      <td>235.270287</td>\n",
              "      <td>221.680429</td>\n",
              "      <td>4.167146e+09</td>\n",
              "      <td>3.425689e+10</td>\n",
              "    </tr>\n",
              "    <tr>\n",
              "      <th>1312</th>\n",
              "      <td>1313</td>\n",
              "      <td>Binance Coin</td>\n",
              "      <td>BNB</td>\n",
              "      <td>2021-02-27 23:59:59</td>\n",
              "      <td>237.179435</td>\n",
              "      <td>220.099401</td>\n",
              "      <td>221.980905</td>\n",
              "      <td>225.249443</td>\n",
              "      <td>2.755271e+09</td>\n",
              "      <td>3.480842e+10</td>\n",
              "    </tr>\n",
              "  </tbody>\n",
              "</table>\n",
              "<p>1313 rows × 10 columns</p>\n",
              "</div>"
            ],
            "text/plain": [
              "       SNo          Name Symbol  ...       Close        Volume     Marketcap\n",
              "0        1  Binance Coin    BNB  ...    0.105138  2.003950e+05  1.051380e+07\n",
              "1        2  Binance Coin    BNB  ...    0.107737  3.444990e+05  1.077370e+07\n",
              "2        3  Binance Coin    BNB  ...    0.104067  3.425680e+05  1.040670e+07\n",
              "3        4  Binance Coin    BNB  ...    0.107811  3.402180e+05  1.078110e+07\n",
              "4        5  Binance Coin    BNB  ...    0.106414  2.242610e+05  1.064140e+07\n",
              "...    ...           ...    ...  ...         ...           ...           ...\n",
              "1308  1309  Binance Coin    BNB  ...  230.994252  8.280753e+09  3.569619e+10\n",
              "1309  1310  Binance Coin    BNB  ...  254.359132  7.154122e+09  3.930683e+10\n",
              "1310  1311  Binance Coin    BNB  ...  233.885956  4.059853e+09  3.614305e+10\n",
              "1311  1312  Binance Coin    BNB  ...  221.680429  4.167146e+09  3.425689e+10\n",
              "1312  1313  Binance Coin    BNB  ...  225.249443  2.755271e+09  3.480842e+10\n",
              "\n",
              "[1313 rows x 10 columns]"
            ]
          },
          "metadata": {
            "tags": []
          },
          "execution_count": 74
        }
      ]
    },
    {
      "cell_type": "code",
      "metadata": {
        "id": "7uXIcjR_v7S1"
      },
      "source": [
        "df = df.sort_values('Date')"
      ],
      "execution_count": null,
      "outputs": []
    },
    {
      "cell_type": "code",
      "metadata": {
        "id": "0hkjWSdlZeAv"
      },
      "source": [
        "df['Date'] = pd.to_datetime(df['Date']).dt.date"
      ],
      "execution_count": null,
      "outputs": []
    },
    {
      "cell_type": "code",
      "metadata": {
        "colab": {
          "base_uri": "https://localhost:8080/",
          "height": 419
        },
        "id": "TIRSVTPwtVHb",
        "outputId": "c0c727a1-5ba1-4073-e279-1a6ece59fe15"
      },
      "source": [
        "df"
      ],
      "execution_count": null,
      "outputs": [
        {
          "output_type": "execute_result",
          "data": {
            "text/html": [
              "<div>\n",
              "<style scoped>\n",
              "    .dataframe tbody tr th:only-of-type {\n",
              "        vertical-align: middle;\n",
              "    }\n",
              "\n",
              "    .dataframe tbody tr th {\n",
              "        vertical-align: top;\n",
              "    }\n",
              "\n",
              "    .dataframe thead th {\n",
              "        text-align: right;\n",
              "    }\n",
              "</style>\n",
              "<table border=\"1\" class=\"dataframe\">\n",
              "  <thead>\n",
              "    <tr style=\"text-align: right;\">\n",
              "      <th></th>\n",
              "      <th>SNo</th>\n",
              "      <th>Name</th>\n",
              "      <th>Symbol</th>\n",
              "      <th>Date</th>\n",
              "      <th>High</th>\n",
              "      <th>Low</th>\n",
              "      <th>Open</th>\n",
              "      <th>Close</th>\n",
              "      <th>Volume</th>\n",
              "      <th>Marketcap</th>\n",
              "    </tr>\n",
              "  </thead>\n",
              "  <tbody>\n",
              "    <tr>\n",
              "      <th>0</th>\n",
              "      <td>1</td>\n",
              "      <td>Binance Coin</td>\n",
              "      <td>BNB</td>\n",
              "      <td>2017-07-26</td>\n",
              "      <td>0.109013</td>\n",
              "      <td>0.099266</td>\n",
              "      <td>0.105893</td>\n",
              "      <td>0.105138</td>\n",
              "      <td>2.003950e+05</td>\n",
              "      <td>1.051380e+07</td>\n",
              "    </tr>\n",
              "    <tr>\n",
              "      <th>1</th>\n",
              "      <td>2</td>\n",
              "      <td>Binance Coin</td>\n",
              "      <td>BNB</td>\n",
              "      <td>2017-07-27</td>\n",
              "      <td>0.108479</td>\n",
              "      <td>0.100888</td>\n",
              "      <td>0.105108</td>\n",
              "      <td>0.107737</td>\n",
              "      <td>3.444990e+05</td>\n",
              "      <td>1.077370e+07</td>\n",
              "    </tr>\n",
              "    <tr>\n",
              "      <th>2</th>\n",
              "      <td>3</td>\n",
              "      <td>Binance Coin</td>\n",
              "      <td>BNB</td>\n",
              "      <td>2017-07-28</td>\n",
              "      <td>0.109019</td>\n",
              "      <td>0.101473</td>\n",
              "      <td>0.107632</td>\n",
              "      <td>0.104067</td>\n",
              "      <td>3.425680e+05</td>\n",
              "      <td>1.040670e+07</td>\n",
              "    </tr>\n",
              "    <tr>\n",
              "      <th>3</th>\n",
              "      <td>4</td>\n",
              "      <td>Binance Coin</td>\n",
              "      <td>BNB</td>\n",
              "      <td>2017-07-29</td>\n",
              "      <td>0.111264</td>\n",
              "      <td>0.101108</td>\n",
              "      <td>0.104782</td>\n",
              "      <td>0.107811</td>\n",
              "      <td>3.402180e+05</td>\n",
              "      <td>1.078110e+07</td>\n",
              "    </tr>\n",
              "    <tr>\n",
              "      <th>4</th>\n",
              "      <td>5</td>\n",
              "      <td>Binance Coin</td>\n",
              "      <td>BNB</td>\n",
              "      <td>2017-07-30</td>\n",
              "      <td>0.108138</td>\n",
              "      <td>0.103162</td>\n",
              "      <td>0.107935</td>\n",
              "      <td>0.106414</td>\n",
              "      <td>2.242610e+05</td>\n",
              "      <td>1.064140e+07</td>\n",
              "    </tr>\n",
              "    <tr>\n",
              "      <th>...</th>\n",
              "      <td>...</td>\n",
              "      <td>...</td>\n",
              "      <td>...</td>\n",
              "      <td>...</td>\n",
              "      <td>...</td>\n",
              "      <td>...</td>\n",
              "      <td>...</td>\n",
              "      <td>...</td>\n",
              "      <td>...</td>\n",
              "      <td>...</td>\n",
              "    </tr>\n",
              "    <tr>\n",
              "      <th>1308</th>\n",
              "      <td>1309</td>\n",
              "      <td>Binance Coin</td>\n",
              "      <td>BNB</td>\n",
              "      <td>2021-02-23</td>\n",
              "      <td>268.536845</td>\n",
              "      <td>190.412463</td>\n",
              "      <td>267.364425</td>\n",
              "      <td>230.994252</td>\n",
              "      <td>8.280753e+09</td>\n",
              "      <td>3.569619e+10</td>\n",
              "    </tr>\n",
              "    <tr>\n",
              "      <th>1309</th>\n",
              "      <td>1310</td>\n",
              "      <td>Binance Coin</td>\n",
              "      <td>BNB</td>\n",
              "      <td>2021-02-24</td>\n",
              "      <td>280.088196</td>\n",
              "      <td>214.524714</td>\n",
              "      <td>231.121604</td>\n",
              "      <td>254.359132</td>\n",
              "      <td>7.154122e+09</td>\n",
              "      <td>3.930683e+10</td>\n",
              "    </tr>\n",
              "    <tr>\n",
              "      <th>1310</th>\n",
              "      <td>1311</td>\n",
              "      <td>Binance Coin</td>\n",
              "      <td>BNB</td>\n",
              "      <td>2021-02-25</td>\n",
              "      <td>264.705134</td>\n",
              "      <td>233.885956</td>\n",
              "      <td>254.467606</td>\n",
              "      <td>233.885956</td>\n",
              "      <td>4.059853e+09</td>\n",
              "      <td>3.614305e+10</td>\n",
              "    </tr>\n",
              "    <tr>\n",
              "      <th>1311</th>\n",
              "      <td>1312</td>\n",
              "      <td>Binance Coin</td>\n",
              "      <td>BNB</td>\n",
              "      <td>2021-02-26</td>\n",
              "      <td>238.755012</td>\n",
              "      <td>210.310761</td>\n",
              "      <td>235.270287</td>\n",
              "      <td>221.680429</td>\n",
              "      <td>4.167146e+09</td>\n",
              "      <td>3.425689e+10</td>\n",
              "    </tr>\n",
              "    <tr>\n",
              "      <th>1312</th>\n",
              "      <td>1313</td>\n",
              "      <td>Binance Coin</td>\n",
              "      <td>BNB</td>\n",
              "      <td>2021-02-27</td>\n",
              "      <td>237.179435</td>\n",
              "      <td>220.099401</td>\n",
              "      <td>221.980905</td>\n",
              "      <td>225.249443</td>\n",
              "      <td>2.755271e+09</td>\n",
              "      <td>3.480842e+10</td>\n",
              "    </tr>\n",
              "  </tbody>\n",
              "</table>\n",
              "<p>1313 rows × 10 columns</p>\n",
              "</div>"
            ],
            "text/plain": [
              "       SNo          Name Symbol  ...       Close        Volume     Marketcap\n",
              "0        1  Binance Coin    BNB  ...    0.105138  2.003950e+05  1.051380e+07\n",
              "1        2  Binance Coin    BNB  ...    0.107737  3.444990e+05  1.077370e+07\n",
              "2        3  Binance Coin    BNB  ...    0.104067  3.425680e+05  1.040670e+07\n",
              "3        4  Binance Coin    BNB  ...    0.107811  3.402180e+05  1.078110e+07\n",
              "4        5  Binance Coin    BNB  ...    0.106414  2.242610e+05  1.064140e+07\n",
              "...    ...           ...    ...  ...         ...           ...           ...\n",
              "1308  1309  Binance Coin    BNB  ...  230.994252  8.280753e+09  3.569619e+10\n",
              "1309  1310  Binance Coin    BNB  ...  254.359132  7.154122e+09  3.930683e+10\n",
              "1310  1311  Binance Coin    BNB  ...  233.885956  4.059853e+09  3.614305e+10\n",
              "1311  1312  Binance Coin    BNB  ...  221.680429  4.167146e+09  3.425689e+10\n",
              "1312  1313  Binance Coin    BNB  ...  225.249443  2.755271e+09  3.480842e+10\n",
              "\n",
              "[1313 rows x 10 columns]"
            ]
          },
          "metadata": {
            "tags": []
          },
          "execution_count": 77
        }
      ]
    },
    {
      "cell_type": "code",
      "metadata": {
        "id": "EL-K95-htVKM"
      },
      "source": [
        "df.drop('Symbol',axis=1, inplace=True)"
      ],
      "execution_count": null,
      "outputs": []
    },
    {
      "cell_type": "code",
      "metadata": {
        "id": "aoymqDrxtVNc"
      },
      "source": [
        "df.drop('Name',axis=1, inplace=True)"
      ],
      "execution_count": null,
      "outputs": []
    },
    {
      "cell_type": "code",
      "metadata": {
        "id": "_oC78yztwnsT"
      },
      "source": [
        "df.drop('SNo',axis=1, inplace=True)"
      ],
      "execution_count": null,
      "outputs": []
    },
    {
      "cell_type": "code",
      "metadata": {
        "colab": {
          "base_uri": "https://localhost:8080/",
          "height": 419
        },
        "id": "rLHZmVYLwtvX",
        "outputId": "c7f8fdc6-5d2c-4c04-f2e0-e147237f3091"
      },
      "source": [
        "df"
      ],
      "execution_count": null,
      "outputs": [
        {
          "output_type": "execute_result",
          "data": {
            "text/html": [
              "<div>\n",
              "<style scoped>\n",
              "    .dataframe tbody tr th:only-of-type {\n",
              "        vertical-align: middle;\n",
              "    }\n",
              "\n",
              "    .dataframe tbody tr th {\n",
              "        vertical-align: top;\n",
              "    }\n",
              "\n",
              "    .dataframe thead th {\n",
              "        text-align: right;\n",
              "    }\n",
              "</style>\n",
              "<table border=\"1\" class=\"dataframe\">\n",
              "  <thead>\n",
              "    <tr style=\"text-align: right;\">\n",
              "      <th></th>\n",
              "      <th>Date</th>\n",
              "      <th>High</th>\n",
              "      <th>Low</th>\n",
              "      <th>Open</th>\n",
              "      <th>Close</th>\n",
              "      <th>Volume</th>\n",
              "      <th>Marketcap</th>\n",
              "    </tr>\n",
              "  </thead>\n",
              "  <tbody>\n",
              "    <tr>\n",
              "      <th>0</th>\n",
              "      <td>2017-07-26</td>\n",
              "      <td>0.109013</td>\n",
              "      <td>0.099266</td>\n",
              "      <td>0.105893</td>\n",
              "      <td>0.105138</td>\n",
              "      <td>2.003950e+05</td>\n",
              "      <td>1.051380e+07</td>\n",
              "    </tr>\n",
              "    <tr>\n",
              "      <th>1</th>\n",
              "      <td>2017-07-27</td>\n",
              "      <td>0.108479</td>\n",
              "      <td>0.100888</td>\n",
              "      <td>0.105108</td>\n",
              "      <td>0.107737</td>\n",
              "      <td>3.444990e+05</td>\n",
              "      <td>1.077370e+07</td>\n",
              "    </tr>\n",
              "    <tr>\n",
              "      <th>2</th>\n",
              "      <td>2017-07-28</td>\n",
              "      <td>0.109019</td>\n",
              "      <td>0.101473</td>\n",
              "      <td>0.107632</td>\n",
              "      <td>0.104067</td>\n",
              "      <td>3.425680e+05</td>\n",
              "      <td>1.040670e+07</td>\n",
              "    </tr>\n",
              "    <tr>\n",
              "      <th>3</th>\n",
              "      <td>2017-07-29</td>\n",
              "      <td>0.111264</td>\n",
              "      <td>0.101108</td>\n",
              "      <td>0.104782</td>\n",
              "      <td>0.107811</td>\n",
              "      <td>3.402180e+05</td>\n",
              "      <td>1.078110e+07</td>\n",
              "    </tr>\n",
              "    <tr>\n",
              "      <th>4</th>\n",
              "      <td>2017-07-30</td>\n",
              "      <td>0.108138</td>\n",
              "      <td>0.103162</td>\n",
              "      <td>0.107935</td>\n",
              "      <td>0.106414</td>\n",
              "      <td>2.242610e+05</td>\n",
              "      <td>1.064140e+07</td>\n",
              "    </tr>\n",
              "    <tr>\n",
              "      <th>...</th>\n",
              "      <td>...</td>\n",
              "      <td>...</td>\n",
              "      <td>...</td>\n",
              "      <td>...</td>\n",
              "      <td>...</td>\n",
              "      <td>...</td>\n",
              "      <td>...</td>\n",
              "    </tr>\n",
              "    <tr>\n",
              "      <th>1308</th>\n",
              "      <td>2021-02-23</td>\n",
              "      <td>268.536845</td>\n",
              "      <td>190.412463</td>\n",
              "      <td>267.364425</td>\n",
              "      <td>230.994252</td>\n",
              "      <td>8.280753e+09</td>\n",
              "      <td>3.569619e+10</td>\n",
              "    </tr>\n",
              "    <tr>\n",
              "      <th>1309</th>\n",
              "      <td>2021-02-24</td>\n",
              "      <td>280.088196</td>\n",
              "      <td>214.524714</td>\n",
              "      <td>231.121604</td>\n",
              "      <td>254.359132</td>\n",
              "      <td>7.154122e+09</td>\n",
              "      <td>3.930683e+10</td>\n",
              "    </tr>\n",
              "    <tr>\n",
              "      <th>1310</th>\n",
              "      <td>2021-02-25</td>\n",
              "      <td>264.705134</td>\n",
              "      <td>233.885956</td>\n",
              "      <td>254.467606</td>\n",
              "      <td>233.885956</td>\n",
              "      <td>4.059853e+09</td>\n",
              "      <td>3.614305e+10</td>\n",
              "    </tr>\n",
              "    <tr>\n",
              "      <th>1311</th>\n",
              "      <td>2021-02-26</td>\n",
              "      <td>238.755012</td>\n",
              "      <td>210.310761</td>\n",
              "      <td>235.270287</td>\n",
              "      <td>221.680429</td>\n",
              "      <td>4.167146e+09</td>\n",
              "      <td>3.425689e+10</td>\n",
              "    </tr>\n",
              "    <tr>\n",
              "      <th>1312</th>\n",
              "      <td>2021-02-27</td>\n",
              "      <td>237.179435</td>\n",
              "      <td>220.099401</td>\n",
              "      <td>221.980905</td>\n",
              "      <td>225.249443</td>\n",
              "      <td>2.755271e+09</td>\n",
              "      <td>3.480842e+10</td>\n",
              "    </tr>\n",
              "  </tbody>\n",
              "</table>\n",
              "<p>1313 rows × 7 columns</p>\n",
              "</div>"
            ],
            "text/plain": [
              "            Date        High  ...        Volume     Marketcap\n",
              "0     2017-07-26    0.109013  ...  2.003950e+05  1.051380e+07\n",
              "1     2017-07-27    0.108479  ...  3.444990e+05  1.077370e+07\n",
              "2     2017-07-28    0.109019  ...  3.425680e+05  1.040670e+07\n",
              "3     2017-07-29    0.111264  ...  3.402180e+05  1.078110e+07\n",
              "4     2017-07-30    0.108138  ...  2.242610e+05  1.064140e+07\n",
              "...          ...         ...  ...           ...           ...\n",
              "1308  2021-02-23  268.536845  ...  8.280753e+09  3.569619e+10\n",
              "1309  2021-02-24  280.088196  ...  7.154122e+09  3.930683e+10\n",
              "1310  2021-02-25  264.705134  ...  4.059853e+09  3.614305e+10\n",
              "1311  2021-02-26  238.755012  ...  4.167146e+09  3.425689e+10\n",
              "1312  2021-02-27  237.179435  ...  2.755271e+09  3.480842e+10\n",
              "\n",
              "[1313 rows x 7 columns]"
            ]
          },
          "metadata": {
            "tags": []
          },
          "execution_count": 81
        }
      ]
    },
    {
      "cell_type": "markdown",
      "metadata": {
        "id": "y6cJIKWexfLO"
      },
      "source": [
        "**Volatility calculation**"
      ]
    },
    {
      "cell_type": "code",
      "metadata": {
        "id": "1qD-rQiqxXNT"
      },
      "source": [
        "df['daily_ret'] = df['Close'].pct_change()\n",
        "df['daily_ret'] = df['daily_ret'].fillna(0.0)"
      ],
      "execution_count": null,
      "outputs": []
    },
    {
      "cell_type": "code",
      "metadata": {
        "id": "wAo85sayxlAW"
      },
      "source": [
        "df['volatility']= df['daily_ret'].rolling(window=21).std()\n",
        "df['volatility'] = df['volatility'].fillna(0.0)"
      ],
      "execution_count": null,
      "outputs": []
    },
    {
      "cell_type": "code",
      "metadata": {
        "id": "mNv4j7SHxlGF"
      },
      "source": [
        "df['volatility'] = df['volatility']*100"
      ],
      "execution_count": null,
      "outputs": []
    },
    {
      "cell_type": "code",
      "metadata": {
        "colab": {
          "base_uri": "https://localhost:8080/",
          "height": 419
        },
        "id": "LAxW0dP2xyd1",
        "outputId": "22bcefa8-628d-4285-a2c1-3d161fc8a59c"
      },
      "source": [
        "df"
      ],
      "execution_count": null,
      "outputs": [
        {
          "output_type": "execute_result",
          "data": {
            "text/html": [
              "<div>\n",
              "<style scoped>\n",
              "    .dataframe tbody tr th:only-of-type {\n",
              "        vertical-align: middle;\n",
              "    }\n",
              "\n",
              "    .dataframe tbody tr th {\n",
              "        vertical-align: top;\n",
              "    }\n",
              "\n",
              "    .dataframe thead th {\n",
              "        text-align: right;\n",
              "    }\n",
              "</style>\n",
              "<table border=\"1\" class=\"dataframe\">\n",
              "  <thead>\n",
              "    <tr style=\"text-align: right;\">\n",
              "      <th></th>\n",
              "      <th>Date</th>\n",
              "      <th>High</th>\n",
              "      <th>Low</th>\n",
              "      <th>Open</th>\n",
              "      <th>Close</th>\n",
              "      <th>Volume</th>\n",
              "      <th>Marketcap</th>\n",
              "      <th>daily_ret</th>\n",
              "      <th>volatility</th>\n",
              "    </tr>\n",
              "  </thead>\n",
              "  <tbody>\n",
              "    <tr>\n",
              "      <th>0</th>\n",
              "      <td>2017-07-26</td>\n",
              "      <td>0.109013</td>\n",
              "      <td>0.099266</td>\n",
              "      <td>0.105893</td>\n",
              "      <td>0.105138</td>\n",
              "      <td>2.003950e+05</td>\n",
              "      <td>1.051380e+07</td>\n",
              "      <td>0.000000</td>\n",
              "      <td>0.000000</td>\n",
              "    </tr>\n",
              "    <tr>\n",
              "      <th>1</th>\n",
              "      <td>2017-07-27</td>\n",
              "      <td>0.108479</td>\n",
              "      <td>0.100888</td>\n",
              "      <td>0.105108</td>\n",
              "      <td>0.107737</td>\n",
              "      <td>3.444990e+05</td>\n",
              "      <td>1.077370e+07</td>\n",
              "      <td>0.024720</td>\n",
              "      <td>0.000000</td>\n",
              "    </tr>\n",
              "    <tr>\n",
              "      <th>2</th>\n",
              "      <td>2017-07-28</td>\n",
              "      <td>0.109019</td>\n",
              "      <td>0.101473</td>\n",
              "      <td>0.107632</td>\n",
              "      <td>0.104067</td>\n",
              "      <td>3.425680e+05</td>\n",
              "      <td>1.040670e+07</td>\n",
              "      <td>-0.034064</td>\n",
              "      <td>0.000000</td>\n",
              "    </tr>\n",
              "    <tr>\n",
              "      <th>3</th>\n",
              "      <td>2017-07-29</td>\n",
              "      <td>0.111264</td>\n",
              "      <td>0.101108</td>\n",
              "      <td>0.104782</td>\n",
              "      <td>0.107811</td>\n",
              "      <td>3.402180e+05</td>\n",
              "      <td>1.078110e+07</td>\n",
              "      <td>0.035977</td>\n",
              "      <td>0.000000</td>\n",
              "    </tr>\n",
              "    <tr>\n",
              "      <th>4</th>\n",
              "      <td>2017-07-30</td>\n",
              "      <td>0.108138</td>\n",
              "      <td>0.103162</td>\n",
              "      <td>0.107935</td>\n",
              "      <td>0.106414</td>\n",
              "      <td>2.242610e+05</td>\n",
              "      <td>1.064140e+07</td>\n",
              "      <td>-0.012958</td>\n",
              "      <td>0.000000</td>\n",
              "    </tr>\n",
              "    <tr>\n",
              "      <th>...</th>\n",
              "      <td>...</td>\n",
              "      <td>...</td>\n",
              "      <td>...</td>\n",
              "      <td>...</td>\n",
              "      <td>...</td>\n",
              "      <td>...</td>\n",
              "      <td>...</td>\n",
              "      <td>...</td>\n",
              "      <td>...</td>\n",
              "    </tr>\n",
              "    <tr>\n",
              "      <th>1308</th>\n",
              "      <td>2021-02-23</td>\n",
              "      <td>268.536845</td>\n",
              "      <td>190.412463</td>\n",
              "      <td>267.364425</td>\n",
              "      <td>230.994252</td>\n",
              "      <td>8.280753e+09</td>\n",
              "      <td>3.569619e+10</td>\n",
              "      <td>-0.136502</td>\n",
              "      <td>19.883061</td>\n",
              "    </tr>\n",
              "    <tr>\n",
              "      <th>1309</th>\n",
              "      <td>2021-02-24</td>\n",
              "      <td>280.088196</td>\n",
              "      <td>214.524714</td>\n",
              "      <td>231.121604</td>\n",
              "      <td>254.359132</td>\n",
              "      <td>7.154122e+09</td>\n",
              "      <td>3.930683e+10</td>\n",
              "      <td>0.101149</td>\n",
              "      <td>19.824400</td>\n",
              "    </tr>\n",
              "    <tr>\n",
              "      <th>1310</th>\n",
              "      <td>2021-02-25</td>\n",
              "      <td>264.705134</td>\n",
              "      <td>233.885956</td>\n",
              "      <td>254.467606</td>\n",
              "      <td>233.885956</td>\n",
              "      <td>4.059853e+09</td>\n",
              "      <td>3.614305e+10</td>\n",
              "      <td>-0.080489</td>\n",
              "      <td>20.184206</td>\n",
              "    </tr>\n",
              "    <tr>\n",
              "      <th>1311</th>\n",
              "      <td>2021-02-26</td>\n",
              "      <td>238.755012</td>\n",
              "      <td>210.310761</td>\n",
              "      <td>235.270287</td>\n",
              "      <td>221.680429</td>\n",
              "      <td>4.167146e+09</td>\n",
              "      <td>3.425689e+10</td>\n",
              "      <td>-0.052186</td>\n",
              "      <td>20.183895</td>\n",
              "    </tr>\n",
              "    <tr>\n",
              "      <th>1312</th>\n",
              "      <td>2021-02-27</td>\n",
              "      <td>237.179435</td>\n",
              "      <td>220.099401</td>\n",
              "      <td>221.980905</td>\n",
              "      <td>225.249443</td>\n",
              "      <td>2.755271e+09</td>\n",
              "      <td>3.480842e+10</td>\n",
              "      <td>0.016100</td>\n",
              "      <td>20.223649</td>\n",
              "    </tr>\n",
              "  </tbody>\n",
              "</table>\n",
              "<p>1313 rows × 9 columns</p>\n",
              "</div>"
            ],
            "text/plain": [
              "            Date        High         Low  ...     Marketcap  daily_ret  volatility\n",
              "0     2017-07-26    0.109013    0.099266  ...  1.051380e+07   0.000000    0.000000\n",
              "1     2017-07-27    0.108479    0.100888  ...  1.077370e+07   0.024720    0.000000\n",
              "2     2017-07-28    0.109019    0.101473  ...  1.040670e+07  -0.034064    0.000000\n",
              "3     2017-07-29    0.111264    0.101108  ...  1.078110e+07   0.035977    0.000000\n",
              "4     2017-07-30    0.108138    0.103162  ...  1.064140e+07  -0.012958    0.000000\n",
              "...          ...         ...         ...  ...           ...        ...         ...\n",
              "1308  2021-02-23  268.536845  190.412463  ...  3.569619e+10  -0.136502   19.883061\n",
              "1309  2021-02-24  280.088196  214.524714  ...  3.930683e+10   0.101149   19.824400\n",
              "1310  2021-02-25  264.705134  233.885956  ...  3.614305e+10  -0.080489   20.184206\n",
              "1311  2021-02-26  238.755012  210.310761  ...  3.425689e+10  -0.052186   20.183895\n",
              "1312  2021-02-27  237.179435  220.099401  ...  3.480842e+10   0.016100   20.223649\n",
              "\n",
              "[1313 rows x 9 columns]"
            ]
          },
          "metadata": {
            "tags": []
          },
          "execution_count": 85
        }
      ]
    },
    {
      "cell_type": "code",
      "metadata": {
        "id": "Gs_c0Pqox0eW"
      },
      "source": [
        "pf=df.reset_index()['volatility']"
      ],
      "execution_count": null,
      "outputs": []
    },
    {
      "cell_type": "code",
      "metadata": {
        "id": "giGQPo6SxlJl"
      },
      "source": [
        "import matplotlib.pyplot as plt "
      ],
      "execution_count": null,
      "outputs": []
    },
    {
      "cell_type": "markdown",
      "metadata": {
        "id": "k0NCkaKO05uL"
      },
      "source": [
        "**visualization**"
      ]
    },
    {
      "cell_type": "code",
      "metadata": {
        "colab": {
          "base_uri": "https://localhost:8080/",
          "height": 312
        },
        "id": "8lhHvHekxxfL",
        "outputId": "925d2141-f9a8-43a5-98e4-0bc2198b9af2"
      },
      "source": [
        "plt.plot(pf)\n",
        "plt.xlabel('number of days')\n",
        "plt.ylabel('volatility magnitude')\n",
        "plt.title('Bitcoin actual volatility')\n",
        "plt.legend(loc='best')\n",
        "plt.show(block=False)\n"
      ],
      "execution_count": null,
      "outputs": [
        {
          "output_type": "stream",
          "text": [
            "No handles with labels found to put in legend.\n"
          ],
          "name": "stderr"
        },
        {
          "output_type": "display_data",
          "data": {
            "image/png": "[encoded data removed]",
            "text/plain": [
              "<Figure size 432x288 with 1 Axes>"
            ]
          },
          "metadata": {
            "tags": [],
            "needs_background": "light"
          }
        }
      ]
    },
    {
      "cell_type": "markdown",
      "metadata": {
        "id": "A1u4NiFi00oE"
      },
      "source": [
        "**visualization with date**"
      ]
    },
    {
      "cell_type": "code",
      "metadata": {
        "colab": {
          "base_uri": "https://localhost:8080/",
          "height": 296
        },
        "id": "T9VPncmOzMQH",
        "outputId": "5a76e947-d7d5-426e-88a2-ac955e51eece"
      },
      "source": [
        "plt.figure(figsize=(8,6))\n",
        "df.plot(x='Date', y='volatility')\n",
        "plt.show()"
      ],
      "execution_count": null,
      "outputs": [
        {
          "output_type": "display_data",
          "data": {
            "text/plain": [
              "<Figure size 576x432 with 0 Axes>"
            ]
          },
          "metadata": {
            "tags": []
          }
        },
        {
          "output_type": "display_data",
          "data": {
            "image/png": "[encoded data removed]",
            "text/plain": [
              "<Figure size 432x288 with 1 Axes>"
            ]
          },
          "metadata": {
            "tags": [],
            "needs_background": "light"
          }
        }
      ]
    },
    {
      "cell_type": "code",
      "metadata": {
        "id": "p0KHWDpNxxpr"
      },
      "source": [
        "#from sklearn.preprocessing import MinMaxScaler\n",
        "#scaler=MinMaxScaler(feature_range=(0,1))\n",
        "#scaled_data = scaler.fit_transform(df['volatility'].values.reshape(-1,1))"
      ],
      "execution_count": null,
      "outputs": []
    },
    {
      "cell_type": "code",
      "metadata": {
        "id": "m7YVcYJ-2L7B"
      },
      "source": [
        "#features = [\"Date\", \"High\", \"Low\", \"Open\", \"Close\", \"Volume\", \"Marketcap\",\"daily_ret\"]"
      ],
      "execution_count": null,
      "outputs": []
    },
    {
      "cell_type": "code",
      "metadata": {
        "id": "sacdJWn8280k"
      },
      "source": [
        "#X = df[features]\n"
      ],
      "execution_count": null,
      "outputs": []
    },
    {
      "cell_type": "code",
      "metadata": {
        "id": "D3kbPEO83TrY"
      },
      "source": [
        "#y = df['volatility']"
      ],
      "execution_count": null,
      "outputs": []
    },
    {
      "cell_type": "code",
      "metadata": {
        "id": "dDivUEv517Pc"
      },
      "source": [
        "#from sklearn.model_selection import train_test_split\n",
        "#train_X, val_X, train_y, val_y = train_test_split(X, y, random_state=1)"
      ],
      "execution_count": null,
      "outputs": []
    },
    {
      "cell_type": "code",
      "metadata": {
        "id": "c1iHXJbA8yTV"
      },
      "source": [
        "from sklearn.preprocessing import MinMaxScaler\n",
        "scaler=MinMaxScaler(feature_range=(0,1))\n",
        "dff=scaler.fit_transform(np.array(df['volatility'].values.reshape(-1,1)))"
      ],
      "execution_count": null,
      "outputs": []
    },
    {
      "cell_type": "code",
      "metadata": {
        "id": "hV6l9YOC9ijU"
      },
      "source": [
        "##splitting dataset into train and test split where train=70 percent and test=30 percent\n",
        "training_size=int(len(dff)*0.70)\n",
        "test_size=len(dff)-training_size\n",
        "train_data,test_data=dff[0:training_size,:],dff[training_size:len(dff),:1]\n",
        "\n"
      ],
      "execution_count": null,
      "outputs": []
    },
    {
      "cell_type": "code",
      "metadata": {
        "id": "omIooj939iob"
      },
      "source": [
        "import numpy\n",
        "# convert an array of values into a dataset matrix\n",
        "def create_dataset(dataset, time_step=1):\n",
        "\tdataX, dataY = [],[]\n",
        "\tfor i in range(len(dataset)-time_step-1):\n",
        "\t\ta = dataset[i:(i+time_step), 0]   ###i=0, 0,1,2,3-----99   100 \n",
        "\t\tdataX.append(a)\n",
        "\t\tdataY.append(dataset[i + time_step, 0])\n",
        "\treturn numpy.array(dataX), numpy.array(dataY)"
      ],
      "execution_count": null,
      "outputs": []
    },
    {
      "cell_type": "code",
      "metadata": {
        "id": "dzk9ybu-9ism"
      },
      "source": [
        "\n",
        "# reshape into X=t,t+1,t+2,t+3 and Y=t+4\n",
        "time_step = 100\n",
        "X_train, y_train = create_dataset(train_data, time_step)\n",
        "X_test, ytest = create_dataset(test_data, time_step)"
      ],
      "execution_count": null,
      "outputs": []
    },
    {
      "cell_type": "code",
      "metadata": {
        "colab": {
          "base_uri": "https://localhost:8080/"
        },
        "id": "f622HKSY9ivL",
        "outputId": "d67181f7-c4a4-4634-e0e0-b60069484c13"
      },
      "source": [
        "\n",
        "print(X_train.shape), print(y_train.shape)"
      ],
      "execution_count": null,
      "outputs": [
        {
          "output_type": "stream",
          "text": [
            "(818, 100)\n",
            "(818,)\n"
          ],
          "name": "stdout"
        },
        {
          "output_type": "execute_result",
          "data": {
            "text/plain": [
              "(None, None)"
            ]
          },
          "metadata": {
            "tags": []
          },
          "execution_count": 94
        }
      ]
    },
    {
      "cell_type": "code",
      "metadata": {
        "id": "V6_1tirF9sdJ"
      },
      "source": [
        "# reshape input to be [samples, time steps, features] which is required for LSTM\n",
        "X_train =X_train.reshape(X_train.shape[0],X_train.shape[1] , 1)\n",
        "X_test = X_test.reshape(X_test.shape[0],X_test.shape[1] , 1)\n",
        "\n"
      ],
      "execution_count": null,
      "outputs": []
    },
    {
      "cell_type": "code",
      "metadata": {
        "id": "G8E4i-0I9sfy"
      },
      "source": [
        "### Create the Stacked LSTM model\n",
        "from tensorflow.keras.models import Sequential\n",
        "from tensorflow.keras.layers import Dense\n",
        "from tensorflow.keras.layers import LSTM\n",
        "from keras.optimizers import Adam"
      ],
      "execution_count": null,
      "outputs": []
    },
    {
      "cell_type": "code",
      "metadata": {
        "id": "JcOU3q16PLxy"
      },
      "source": [
        ""
      ],
      "execution_count": null,
      "outputs": []
    },
    {
      "cell_type": "markdown",
      "metadata": {
        "id": "yBTVT0S9Kar5"
      },
      "source": [
        "Initial approach"
      ]
    },
    {
      "cell_type": "code",
      "metadata": {
        "id": "_ZRJjx_j942L"
      },
      "source": [
        "#Those experiment has been done on bitcoin dataset\n",
        "#model=Sequential()\n",
        "#model.add(LSTM(50,return_sequences=True,input_shape=(100,1)))\n",
        "#model.add(LSTM(50,return_sequences=True))\n",
        "#model.add(LSTM(50))\n",
        "#model.add(Dense(1))\n",
        "#model.compile(loss='mean_squared_error', optimizer='adam')\n",
        "#RMSE score : 3.51 with 50 neurons and 100 epochs"
      ],
      "execution_count": null,
      "outputs": []
    },
    {
      "cell_type": "code",
      "metadata": {
        "id": "ADgkdQg9Ty5A"
      },
      "source": [
        "\n",
        "#model=Sequential()\n",
        "#model.add(LSTM(20,return_sequences=True,input_shape=(100,1)))\n",
        "#model.add(LSTM(20))\n",
        "#model.add(Dense(1))\n",
        "#model.compile(loss='mean_squared_error', optimizer='adam')\n",
        "\n",
        "# same rmse score : 3.51 with 20 neurons, one less layer and 10 epochs"
      ],
      "execution_count": null,
      "outputs": []
    },
    {
      "cell_type": "code",
      "metadata": {
        "id": "nvJCCYtcVI6p"
      },
      "source": [
        "\n",
        "#model=Sequential()\n",
        "#model.add(LSTM(10,return_sequences=True,input_shape=(100,1)))\n",
        "#model.add(LSTM(10))\n",
        "#model.add(Dense(1))\n",
        "#model.compile(loss='mean_squared_error', optimizer='adam')\n",
        "\n",
        "# mse score: 3.66 with 10 neurons and 10 epochs\n",
        "# mse score: 3.59 with 10 neurons and 100 epochs\n",
        "#mse score : 3.35 with 100 neurons and 10 epochs"
      ],
      "execution_count": null,
      "outputs": []
    },
    {
      "cell_type": "code",
      "metadata": {
        "id": "5HiTnFSWb06_"
      },
      "source": [
        "\n",
        "#model=Sequential()\n",
        "#model.add(LSTM(100,return_sequences=True,input_shape=(100,1)))\n",
        "#model.add(LSTM(100,return_sequences=True))\n",
        "#model.add(LSTM(100,return_sequences=True))\n",
        "#model.add(LSTM(100,return_sequences=True))\n",
        "#model.add(LSTM(100))\n",
        "#model.add(Dense(1))\n",
        "#model.compile(loss='mean_squared_error', optimizer='adam')\n",
        "#this gave rmse 3.61"
      ],
      "execution_count": null,
      "outputs": []
    },
    {
      "cell_type": "code",
      "metadata": {
        "id": "QF2NHJZmXyPV"
      },
      "source": [
        "#optimizers are :Stochastic Gradient Descent (SGD), Adaptive Gradient (Adagrad), Adaptive Delta (Adadelta), Root Mean Square Propagation (RMSProp), Adaptive Momentum (Adam), Adaptive Max Pooling (Adamax), and Nesterov Adaptive Momentum (Nadam)"
      ],
      "execution_count": null,
      "outputs": []
    },
    {
      "cell_type": "code",
      "metadata": {
        "id": "8er5quVLdQN2"
      },
      "source": [
        "\n",
        "#model=Sequential()\n",
        "#model.add(LSTM(100,return_sequences=True,input_shape=(100,1)))\n",
        "#model.add(LSTM(100))\n",
        "#model.add(Dense(1))\n",
        "#model.compile(loss='mean_squared_error', optimizer='SGD')\n",
        "\n",
        "#this is with Adam rmse score: 3.35\n",
        "#this is with sgd rmse score :3.43\n",
        "# this is with adadelta rmse score :0.73(taken)\n",
        "# this is with RMSProp rmse score 3.68\n",
        "#this is with Adamax rmse score 3.79\n",
        "#this is with nadam rmse score 3.40\n",
        "\n",
        "# adding softmax in the output layer give rmse 6.02 \n",
        "#addinhg relu in the output layer give rmse 1.02 \n",
        "# this is with mae loss and adadelta optimizer rmse 0.72\n",
        "# this is with mape loss and adadelta optimizer rmse 2.69\n",
        "#this is with mean_squared_logarithmic_error function loss and adadelta optimizer rmse 1.42\n",
        "#this is with cosine_similarity  loss and adadelta optimizer rmse 0.76\n",
        "#this is with huber loss loss and adadelta optimizer rmse 0.38,0.71\n",
        "#this is with log_cosh loss and adadelta optimizer rmse 0.27\n"
      ],
      "execution_count": null,
      "outputs": []
    },
    {
      "cell_type": "markdown",
      "metadata": {
        "id": "2m1NSVtW3_j5"
      },
      "source": [
        "MeanSquaredError class,\n",
        "MeanAbsoluteError class,\n",
        "MeanAbsolutePercentageError class,\n",
        "MeanSquaredLogarithmicError class,\n",
        "CosineSimilarity class,\n",
        "mean_squared_error function,\n",
        "mean_absolute_error function,\n",
        "mean_absolute_percentage_error function,\n",
        "mean_squared_logarithmic_error function,\n",
        "cosine_similarity function,\n",
        "Huber class,\n",
        "huber function,\n",
        "LogCosh class,\n",
        "log_cosh function,"
      ]
    },
    {
      "cell_type": "code",
      "metadata": {
        "id": "GfDD-vVV7F9G"
      },
      "source": [
        "#mean_absolute_error,\"mean_absolute_percentage_error\",cosine_similarity,huber_loss,log_cosh"
      ],
      "execution_count": null,
      "outputs": []
    },
    {
      "cell_type": "code",
      "metadata": {
        "id": "WOAboWa9Kvr6"
      },
      "source": [
        "\n",
        "model=Sequential()\n",
        "model.add(LSTM(100,return_sequences=True,input_shape=(100,1)))\n",
        "model.add(LSTM(100))\n",
        "model.add(Dense(1))\n",
        "model.compile(loss='mse', optimizer='adam')\n"
      ],
      "execution_count": null,
      "outputs": []
    },
    {
      "cell_type": "code",
      "metadata": {
        "colab": {
          "base_uri": "https://localhost:8080/"
        },
        "id": "rXNITWSz949S",
        "outputId": "55dbe413-938f-43ac-e5e9-ebe50b2554c8"
      },
      "source": [
        "\n",
        "model.fit(X_train,y_train,validation_data=(X_test,ytest),epochs=10,batch_size=32,verbose=1)"
      ],
      "execution_count": null,
      "outputs": [
        {
          "output_type": "stream",
          "text": [
            "Epoch 1/10\n",
            "55/55 [==============================] - 13s 168ms/step - loss: 8.8985e-04 - val_loss: 0.0066\n",
            "Epoch 2/10\n",
            "55/55 [==============================] - 8s 154ms/step - loss: 3.1605e-04 - val_loss: 0.0057\n",
            "Epoch 3/10\n",
            "55/55 [==============================] - 8s 153ms/step - loss: 2.6805e-04 - val_loss: 0.0051\n",
            "Epoch 4/10\n",
            "55/55 [==============================] - 8s 154ms/step - loss: 2.3655e-04 - val_loss: 0.0048\n",
            "Epoch 5/10\n",
            "55/55 [==============================] - 9s 155ms/step - loss: 2.0388e-04 - val_loss: 0.0045\n",
            "Epoch 6/10\n",
            "55/55 [==============================] - 8s 152ms/step - loss: 1.7659e-04 - val_loss: 0.0042\n",
            "Epoch 7/10\n",
            "55/55 [==============================] - 8s 153ms/step - loss: 1.6139e-04 - val_loss: 0.0038\n",
            "Epoch 8/10\n",
            "55/55 [==============================] - 8s 152ms/step - loss: 1.4758e-04 - val_loss: 0.0037\n",
            "Epoch 9/10\n",
            "55/55 [==============================] - 8s 153ms/step - loss: 1.3136e-04 - val_loss: 0.0033\n",
            "Epoch 10/10\n",
            "55/55 [==============================] - 8s 152ms/step - loss: 1.2516e-04 - val_loss: 0.0036\n"
          ],
          "name": "stdout"
        },
        {
          "output_type": "execute_result",
          "data": {
            "text/plain": [
              "<tensorflow.python.keras.callbacks.History at 0x7fc81248af90>"
            ]
          },
          "metadata": {
            "tags": []
          },
          "execution_count": 32
        }
      ]
    },
    {
      "cell_type": "code",
      "metadata": {
        "id": "n-crEzNh95AQ"
      },
      "source": [
        "import tensorflow as tf\n",
        "from sklearn.metrics import r2_score"
      ],
      "execution_count": null,
      "outputs": []
    },
    {
      "cell_type": "code",
      "metadata": {
        "id": "8Cg9ekLK-ADu"
      },
      "source": [
        "\n",
        "### Lets Do the prediction and check performance metrics\n",
        "train_predict=model.predict(X_train)\n",
        "test_predict=model.predict(X_test)"
      ],
      "execution_count": null,
      "outputs": []
    },
    {
      "cell_type": "code",
      "metadata": {
        "colab": {
          "base_uri": "https://localhost:8080/"
        },
        "id": "vFH4o_Hp-AJV",
        "outputId": "1570645e-07fa-45c1-aff4-b7b72fe8d7c4"
      },
      "source": [
        "train_predict.shape"
      ],
      "execution_count": null,
      "outputs": [
        {
          "output_type": "execute_result",
          "data": {
            "text/plain": [
              "(1740, 1)"
            ]
          },
          "metadata": {
            "tags": []
          },
          "execution_count": 35
        }
      ]
    },
    {
      "cell_type": "code",
      "metadata": {
        "id": "nwsCIVbp-phZ"
      },
      "source": [
        "\n",
        "##Transformback to original form\n",
        "train_predict=scaler.inverse_transform(train_predict)\n",
        "test_predict=scaler.inverse_transform(test_predict)\n",
        "#X = np.reshape(ytest,(1, ytest.size))\n",
        "#Y_test =scaler.inverse_transform(X)"
      ],
      "execution_count": null,
      "outputs": []
    },
    {
      "cell_type": "code",
      "metadata": {
        "colab": {
          "base_uri": "https://localhost:8080/"
        },
        "id": "UDPF6l_x-pkB",
        "outputId": "0e3ec24d-31a0-4a55-981e-a3422e0636b3"
      },
      "source": [
        "#Y_test = Y_test.transpose()\n",
        "RMSE = math.sqrt(mean_squared_error(ytest,test_predict))\n",
        "RMSE"
      ],
      "execution_count": null,
      "outputs": [
        {
          "output_type": "execute_result",
          "data": {
            "text/plain": [
              "12.867400878525899"
            ]
          },
          "metadata": {
            "tags": []
          },
          "execution_count": 37
        }
      ]
    },
    {
      "cell_type": "code",
      "metadata": {
        "colab": {
          "base_uri": "https://localhost:8080/",
          "height": 295
        },
        "id": "Mk-FtB1ZbWEr",
        "outputId": "1bf368b5-da25-4627-a7c3-778e7a0f8b0f"
      },
      "source": [
        "\n",
        "### Plotting \n",
        "# shift train predictions for plotting\n",
        "look_back=100\n",
        "trainPredictPlot = numpy.empty_like(dff)\n",
        "trainPredictPlot[:, :] = np.nan\n",
        "trainPredictPlot[look_back:len(train_predict)+look_back, :] = train_predict\n",
        "# shift test predictions for plotting\n",
        "testPredictPlot = numpy.empty_like(dff)\n",
        "testPredictPlot[:, :] = numpy.nan\n",
        "testPredictPlot[len(train_predict)+(look_back*2)+1:len(dff)-1, :] = test_predict\n",
        "# plot baseline and predictions\n",
        "plt.plot(scaler.inverse_transform(dff),color ='blue', label ='original')\n",
        "plt.plot(trainPredictPlot, color ='orange', label ='predicted')\n",
        "plt.plot(testPredictPlot , color ='red', label ='tested')\n",
        "\n",
        "#plt.show()\n",
        "plt.xlabel('number of days')\n",
        "plt.ylabel('volatility magnitude')\n",
        "plt.title('ABBANk Risk Factor Prediction')\n",
        "plt.legend(loc='best')\n",
        "plt.show(block=False)\n"
      ],
      "execution_count": null,
      "outputs": [
        {
          "output_type": "display_data",
          "data": {
            "image/png": "[encoded data removed]",
            "text/plain": [
              "<Figure size 432x288 with 1 Axes>"
            ]
          },
          "metadata": {
            "tags": [],
            "needs_background": "light"
          }
        }
      ]
    },
    {
      "cell_type": "code",
      "metadata": {
        "colab": {
          "base_uri": "https://localhost:8080/"
        },
        "id": "HVOBs7u4-ppW",
        "outputId": "6b09e986-4155-471a-9741-0e1ff71f0100"
      },
      "source": [
        "\n",
        "x_input=test_data[690:].reshape(1,-1)\n",
        "x_input.shape"
      ],
      "execution_count": null,
      "outputs": [
        {
          "output_type": "execute_result",
          "data": {
            "text/plain": [
              "(1, 100)"
            ]
          },
          "metadata": {
            "tags": []
          },
          "execution_count": 42
        }
      ]
    },
    {
      "cell_type": "code",
      "metadata": {
        "id": "2oCesozK-61E"
      },
      "source": [
        "\n",
        "temp_input=list(x_input)\n",
        "temp_input=temp_input[0].tolist()"
      ],
      "execution_count": null,
      "outputs": []
    },
    {
      "cell_type": "code",
      "metadata": {
        "colab": {
          "base_uri": "https://localhost:8080/"
        },
        "id": "o3h_y8ZN-64B",
        "outputId": "9c51e648-aa91-446f-8b8a-6da14f9212a5"
      },
      "source": [
        "# demonstrate prediction for next 10 days\n",
        "from numpy import array\n",
        "\n",
        "lst_output=[]\n",
        "n_steps=100\n",
        "i=0\n",
        "while(i<10):\n",
        "    \n",
        "    if(len(temp_input)>100):\n",
        "        #print(temp_input)\n",
        "        x_input=np.array(temp_input[1:])\n",
        "        print(\"{} day input {}\".format(i,x_input))\n",
        "        x_input = x_input.reshape(1,-1)\n",
        "        x_input = x_input.reshape((1, n_steps, 1))\n",
        "        #print(x_input)\n",
        "        yhat = model.predict(x_input, verbose=0)\n",
        "        print(\"{} day output {}\".format(i,yhat))\n",
        "        temp_input.extend(yhat[0].tolist())\n",
        "        temp_input=temp_input[1:]\n",
        "        #print(temp_input)\n",
        "        lst_output.extend(yhat.tolist())\n",
        "        i=i+1\n",
        "    else:\n",
        "        x_input = x_input.reshape((1, n_steps,1))\n",
        "        yhat = model.predict(x_input, verbose=0)\n",
        "        print(yhat[0])\n",
        "        temp_input.extend(yhat[0].tolist())\n",
        "        print(len(temp_input))\n",
        "        lst_output.extend(yhat.tolist())\n",
        "        i=i+1\n",
        "    \n",
        "\n",
        "#print(lst_output)\n"
      ],
      "execution_count": null,
      "outputs": [
        {
          "output_type": "stream",
          "text": [
            "[0.11517221]\n",
            "101\n",
            "1 day input [0.05329928 0.05623439 0.05943768 0.06959232 0.07927214 0.08896212\n",
            " 0.08813974 0.08758625 0.08758637 0.08728117 0.08963037 0.08961432\n",
            " 0.08958843 0.09063161 0.09044152 0.09047932 0.09036765 0.09172076\n",
            " 0.09169039 0.09190466 0.09179856 0.077938   0.0771684  0.07215744\n",
            " 0.05633291 0.05205957 0.04487003 0.04549021 0.04469588 0.06471127\n",
            " 0.06482225 0.06459489 0.08131861 0.09905109 0.09791024 0.09838891\n",
            " 0.09825101 0.09788616 0.096742   0.09651548 0.09595501 0.10887216\n",
            " 0.25342247 0.25664717 0.25648366 0.25601514 0.25604426 0.25869414\n",
            " 0.25897025 0.25878847 0.2577162  0.26119035 0.26220814 0.25536685\n",
            " 0.25151124 0.25159412 0.25143234 0.25197914 0.25195824 0.25166414\n",
            " 0.25204006 0.25500216 0.25006163 0.06835079 0.06551683 0.06621691\n",
            " 0.06596345 0.06745233 0.98133639 0.98224261 0.9944769  0.99392073\n",
            " 0.99307365 0.99326049 0.99280139 0.99489516 0.9972352  0.99558602\n",
            " 0.99444466 0.99463084 0.99689119 0.9961951  0.9949453  0.99552999\n",
            " 0.99662963 0.99803695 0.99925518 1.         0.99962557 0.26427974\n",
            " 0.24750742 0.21522665 0.19996671 0.19924771 0.20042981 0.20138772\n",
            " 0.16763814 0.16379087 0.15146743 0.11517221]\n",
            "1 day output [[0.10863117]]\n",
            "2 day input [0.05623439 0.05943768 0.06959232 0.07927214 0.08896212 0.08813974\n",
            " 0.08758625 0.08758637 0.08728117 0.08963037 0.08961432 0.08958843\n",
            " 0.09063161 0.09044152 0.09047932 0.09036765 0.09172076 0.09169039\n",
            " 0.09190466 0.09179856 0.077938   0.0771684  0.07215744 0.05633291\n",
            " 0.05205957 0.04487003 0.04549021 0.04469588 0.06471127 0.06482225\n",
            " 0.06459489 0.08131861 0.09905109 0.09791024 0.09838891 0.09825101\n",
            " 0.09788616 0.096742   0.09651548 0.09595501 0.10887216 0.25342247\n",
            " 0.25664717 0.25648366 0.25601514 0.25604426 0.25869414 0.25897025\n",
            " 0.25878847 0.2577162  0.26119035 0.26220814 0.25536685 0.25151124\n",
            " 0.25159412 0.25143234 0.25197914 0.25195824 0.25166414 0.25204006\n",
            " 0.25500216 0.25006163 0.06835079 0.06551683 0.06621691 0.06596345\n",
            " 0.06745233 0.98133639 0.98224261 0.9944769  0.99392073 0.99307365\n",
            " 0.99326049 0.99280139 0.99489516 0.9972352  0.99558602 0.99444466\n",
            " 0.99463084 0.99689119 0.9961951  0.9949453  0.99552999 0.99662963\n",
            " 0.99803695 0.99925518 1.         0.99962557 0.26427974 0.24750742\n",
            " 0.21522665 0.19996671 0.19924771 0.20042981 0.20138772 0.16763814\n",
            " 0.16379087 0.15146743 0.11517221 0.10863117]\n",
            "2 day output [[0.10113937]]\n",
            "3 day input [0.05943768 0.06959232 0.07927214 0.08896212 0.08813974 0.08758625\n",
            " 0.08758637 0.08728117 0.08963037 0.08961432 0.08958843 0.09063161\n",
            " 0.09044152 0.09047932 0.09036765 0.09172076 0.09169039 0.09190466\n",
            " 0.09179856 0.077938   0.0771684  0.07215744 0.05633291 0.05205957\n",
            " 0.04487003 0.04549021 0.04469588 0.06471127 0.06482225 0.06459489\n",
            " 0.08131861 0.09905109 0.09791024 0.09838891 0.09825101 0.09788616\n",
            " 0.096742   0.09651548 0.09595501 0.10887216 0.25342247 0.25664717\n",
            " 0.25648366 0.25601514 0.25604426 0.25869414 0.25897025 0.25878847\n",
            " 0.2577162  0.26119035 0.26220814 0.25536685 0.25151124 0.25159412\n",
            " 0.25143234 0.25197914 0.25195824 0.25166414 0.25204006 0.25500216\n",
            " 0.25006163 0.06835079 0.06551683 0.06621691 0.06596345 0.06745233\n",
            " 0.98133639 0.98224261 0.9944769  0.99392073 0.99307365 0.99326049\n",
            " 0.99280139 0.99489516 0.9972352  0.99558602 0.99444466 0.99463084\n",
            " 0.99689119 0.9961951  0.9949453  0.99552999 0.99662963 0.99803695\n",
            " 0.99925518 1.         0.99962557 0.26427974 0.24750742 0.21522665\n",
            " 0.19996671 0.19924771 0.20042981 0.20138772 0.16763814 0.16379087\n",
            " 0.15146743 0.11517221 0.10863117 0.10113937]\n",
            "3 day output [[0.09630501]]\n",
            "4 day input [0.06959232 0.07927214 0.08896212 0.08813974 0.08758625 0.08758637\n",
            " 0.08728117 0.08963037 0.08961432 0.08958843 0.09063161 0.09044152\n",
            " 0.09047932 0.09036765 0.09172076 0.09169039 0.09190466 0.09179856\n",
            " 0.077938   0.0771684  0.07215744 0.05633291 0.05205957 0.04487003\n",
            " 0.04549021 0.04469588 0.06471127 0.06482225 0.06459489 0.08131861\n",
            " 0.09905109 0.09791024 0.09838891 0.09825101 0.09788616 0.096742\n",
            " 0.09651548 0.09595501 0.10887216 0.25342247 0.25664717 0.25648366\n",
            " 0.25601514 0.25604426 0.25869414 0.25897025 0.25878847 0.2577162\n",
            " 0.26119035 0.26220814 0.25536685 0.25151124 0.25159412 0.25143234\n",
            " 0.25197914 0.25195824 0.25166414 0.25204006 0.25500216 0.25006163\n",
            " 0.06835079 0.06551683 0.06621691 0.06596345 0.06745233 0.98133639\n",
            " 0.98224261 0.9944769  0.99392073 0.99307365 0.99326049 0.99280139\n",
            " 0.99489516 0.9972352  0.99558602 0.99444466 0.99463084 0.99689119\n",
            " 0.9961951  0.9949453  0.99552999 0.99662963 0.99803695 0.99925518\n",
            " 1.         0.99962557 0.26427974 0.24750742 0.21522665 0.19996671\n",
            " 0.19924771 0.20042981 0.20138772 0.16763814 0.16379087 0.15146743\n",
            " 0.11517221 0.10863117 0.10113937 0.09630501]\n",
            "4 day output [[0.09498295]]\n",
            "5 day input [0.07927214 0.08896212 0.08813974 0.08758625 0.08758637 0.08728117\n",
            " 0.08963037 0.08961432 0.08958843 0.09063161 0.09044152 0.09047932\n",
            " 0.09036765 0.09172076 0.09169039 0.09190466 0.09179856 0.077938\n",
            " 0.0771684  0.07215744 0.05633291 0.05205957 0.04487003 0.04549021\n",
            " 0.04469588 0.06471127 0.06482225 0.06459489 0.08131861 0.09905109\n",
            " 0.09791024 0.09838891 0.09825101 0.09788616 0.096742   0.09651548\n",
            " 0.09595501 0.10887216 0.25342247 0.25664717 0.25648366 0.25601514\n",
            " 0.25604426 0.25869414 0.25897025 0.25878847 0.2577162  0.26119035\n",
            " 0.26220814 0.25536685 0.25151124 0.25159412 0.25143234 0.25197914\n",
            " 0.25195824 0.25166414 0.25204006 0.25500216 0.25006163 0.06835079\n",
            " 0.06551683 0.06621691 0.06596345 0.06745233 0.98133639 0.98224261\n",
            " 0.9944769  0.99392073 0.99307365 0.99326049 0.99280139 0.99489516\n",
            " 0.9972352  0.99558602 0.99444466 0.99463084 0.99689119 0.9961951\n",
            " 0.9949453  0.99552999 0.99662963 0.99803695 0.99925518 1.\n",
            " 0.99962557 0.26427974 0.24750742 0.21522665 0.19996671 0.19924771\n",
            " 0.20042981 0.20138772 0.16763814 0.16379087 0.15146743 0.11517221\n",
            " 0.10863117 0.10113937 0.09630501 0.09498295]\n",
            "5 day output [[0.09717844]]\n",
            "6 day input [0.08896212 0.08813974 0.08758625 0.08758637 0.08728117 0.08963037\n",
            " 0.08961432 0.08958843 0.09063161 0.09044152 0.09047932 0.09036765\n",
            " 0.09172076 0.09169039 0.09190466 0.09179856 0.077938   0.0771684\n",
            " 0.07215744 0.05633291 0.05205957 0.04487003 0.04549021 0.04469588\n",
            " 0.06471127 0.06482225 0.06459489 0.08131861 0.09905109 0.09791024\n",
            " 0.09838891 0.09825101 0.09788616 0.096742   0.09651548 0.09595501\n",
            " 0.10887216 0.25342247 0.25664717 0.25648366 0.25601514 0.25604426\n",
            " 0.25869414 0.25897025 0.25878847 0.2577162  0.26119035 0.26220814\n",
            " 0.25536685 0.25151124 0.25159412 0.25143234 0.25197914 0.25195824\n",
            " 0.25166414 0.25204006 0.25500216 0.25006163 0.06835079 0.06551683\n",
            " 0.06621691 0.06596345 0.06745233 0.98133639 0.98224261 0.9944769\n",
            " 0.99392073 0.99307365 0.99326049 0.99280139 0.99489516 0.9972352\n",
            " 0.99558602 0.99444466 0.99463084 0.99689119 0.9961951  0.9949453\n",
            " 0.99552999 0.99662963 0.99803695 0.99925518 1.         0.99962557\n",
            " 0.26427974 0.24750742 0.21522665 0.19996671 0.19924771 0.20042981\n",
            " 0.20138772 0.16763814 0.16379087 0.15146743 0.11517221 0.10863117\n",
            " 0.10113937 0.09630501 0.09498295 0.09717844]\n",
            "6 day output [[0.10259577]]\n",
            "7 day input [0.08813974 0.08758625 0.08758637 0.08728117 0.08963037 0.08961432\n",
            " 0.08958843 0.09063161 0.09044152 0.09047932 0.09036765 0.09172076\n",
            " 0.09169039 0.09190466 0.09179856 0.077938   0.0771684  0.07215744\n",
            " 0.05633291 0.05205957 0.04487003 0.04549021 0.04469588 0.06471127\n",
            " 0.06482225 0.06459489 0.08131861 0.09905109 0.09791024 0.09838891\n",
            " 0.09825101 0.09788616 0.096742   0.09651548 0.09595501 0.10887216\n",
            " 0.25342247 0.25664717 0.25648366 0.25601514 0.25604426 0.25869414\n",
            " 0.25897025 0.25878847 0.2577162  0.26119035 0.26220814 0.25536685\n",
            " 0.25151124 0.25159412 0.25143234 0.25197914 0.25195824 0.25166414\n",
            " 0.25204006 0.25500216 0.25006163 0.06835079 0.06551683 0.06621691\n",
            " 0.06596345 0.06745233 0.98133639 0.98224261 0.9944769  0.99392073\n",
            " 0.99307365 0.99326049 0.99280139 0.99489516 0.9972352  0.99558602\n",
            " 0.99444466 0.99463084 0.99689119 0.9961951  0.9949453  0.99552999\n",
            " 0.99662963 0.99803695 0.99925518 1.         0.99962557 0.26427974\n",
            " 0.24750742 0.21522665 0.19996671 0.19924771 0.20042981 0.20138772\n",
            " 0.16763814 0.16379087 0.15146743 0.11517221 0.10863117 0.10113937\n",
            " 0.09630501 0.09498295 0.09717844 0.10259577]\n",
            "7 day output [[0.11081754]]\n",
            "8 day input [0.08758625 0.08758637 0.08728117 0.08963037 0.08961432 0.08958843\n",
            " 0.09063161 0.09044152 0.09047932 0.09036765 0.09172076 0.09169039\n",
            " 0.09190466 0.09179856 0.077938   0.0771684  0.07215744 0.05633291\n",
            " 0.05205957 0.04487003 0.04549021 0.04469588 0.06471127 0.06482225\n",
            " 0.06459489 0.08131861 0.09905109 0.09791024 0.09838891 0.09825101\n",
            " 0.09788616 0.096742   0.09651548 0.09595501 0.10887216 0.25342247\n",
            " 0.25664717 0.25648366 0.25601514 0.25604426 0.25869414 0.25897025\n",
            " 0.25878847 0.2577162  0.26119035 0.26220814 0.25536685 0.25151124\n",
            " 0.25159412 0.25143234 0.25197914 0.25195824 0.25166414 0.25204006\n",
            " 0.25500216 0.25006163 0.06835079 0.06551683 0.06621691 0.06596345\n",
            " 0.06745233 0.98133639 0.98224261 0.9944769  0.99392073 0.99307365\n",
            " 0.99326049 0.99280139 0.99489516 0.9972352  0.99558602 0.99444466\n",
            " 0.99463084 0.99689119 0.9961951  0.9949453  0.99552999 0.99662963\n",
            " 0.99803695 0.99925518 1.         0.99962557 0.26427974 0.24750742\n",
            " 0.21522665 0.19996671 0.19924771 0.20042981 0.20138772 0.16763814\n",
            " 0.16379087 0.15146743 0.11517221 0.10863117 0.10113937 0.09630501\n",
            " 0.09498295 0.09717844 0.10259577 0.11081754]\n",
            "8 day output [[0.12137793]]\n",
            "9 day input [0.08758637 0.08728117 0.08963037 0.08961432 0.08958843 0.09063161\n",
            " 0.09044152 0.09047932 0.09036765 0.09172076 0.09169039 0.09190466\n",
            " 0.09179856 0.077938   0.0771684  0.07215744 0.05633291 0.05205957\n",
            " 0.04487003 0.04549021 0.04469588 0.06471127 0.06482225 0.06459489\n",
            " 0.08131861 0.09905109 0.09791024 0.09838891 0.09825101 0.09788616\n",
            " 0.096742   0.09651548 0.09595501 0.10887216 0.25342247 0.25664717\n",
            " 0.25648366 0.25601514 0.25604426 0.25869414 0.25897025 0.25878847\n",
            " 0.2577162  0.26119035 0.26220814 0.25536685 0.25151124 0.25159412\n",
            " 0.25143234 0.25197914 0.25195824 0.25166414 0.25204006 0.25500216\n",
            " 0.25006163 0.06835079 0.06551683 0.06621691 0.06596345 0.06745233\n",
            " 0.98133639 0.98224261 0.9944769  0.99392073 0.99307365 0.99326049\n",
            " 0.99280139 0.99489516 0.9972352  0.99558602 0.99444466 0.99463084\n",
            " 0.99689119 0.9961951  0.9949453  0.99552999 0.99662963 0.99803695\n",
            " 0.99925518 1.         0.99962557 0.26427974 0.24750742 0.21522665\n",
            " 0.19996671 0.19924771 0.20042981 0.20138772 0.16763814 0.16379087\n",
            " 0.15146743 0.11517221 0.10863117 0.10113937 0.09630501 0.09498295\n",
            " 0.09717844 0.10259577 0.11081754 0.12137793]\n",
            "9 day output [[0.13380025]]\n"
          ],
          "name": "stdout"
        }
      ]
    },
    {
      "cell_type": "code",
      "metadata": {
        "id": "18aL-cNb-9P-"
      },
      "source": [
        "import numpy as np\n",
        "import pandas as pd\n",
        "import matplotlib.pyplot as plt"
      ],
      "execution_count": null,
      "outputs": []
    },
    {
      "cell_type": "code",
      "metadata": {
        "id": "kzQ-Jo5V-9Sl"
      },
      "source": [
        "day_new=np.arange(1,101)\n",
        "day_pred=np.arange(101,111)"
      ],
      "execution_count": null,
      "outputs": []
    },
    {
      "cell_type": "code",
      "metadata": {
        "colab": {
          "base_uri": "https://localhost:8080/",
          "height": 295
        },
        "id": "l-qxekPl-9Vk",
        "outputId": "6b0bc984-3093-4f8c-de02-a03ed923719d"
      },
      "source": [
        "\n",
        "plt.plot(day_new,scaler.inverse_transform(dff[2531:]),color ='blue', label ='origial')\n",
        "plt.plot(day_pred,scaler.inverse_transform(lst_output),color='red', label='future')\n",
        "plt.xlabel('last 100 days+ future 10 days')\n",
        "plt.ylabel('volatility magnitude')\n",
        "plt.title('Next 10 Days Forecasting')\n",
        "plt.legend(loc='best')\n",
        "plt.show(block=False)"
      ],
      "execution_count": null,
      "outputs": [
        {
          "output_type": "display_data",
          "data": {
            "image/png": "[encoded data removed]",
            "text/plain": [
              "<Figure size 432x288 with 1 Axes>"
            ]
          },
          "metadata": {
            "tags": [],
            "needs_background": "light"
          }
        }
      ]
    },
    {
      "cell_type": "code",
      "metadata": {
        "colab": {
          "base_uri": "https://localhost:8080/",
          "height": 295
        },
        "id": "5gfMmFwOfBaO",
        "outputId": "b70bca62-fc85-426a-d4e3-f86d1c60df9d"
      },
      "source": [
        "\n",
        "\n",
        "\n",
        "df3=dff.tolist()\n",
        "df3.extend(lst_output)\n",
        "plt.xlabel('last 100 days+ future 30 days')\n",
        "plt.ylabel('volatility magnitude')\n",
        "plt.title('Next 30 Days Forecasting')\n",
        "plt.plot(df3[2832:],color='red', label='future')\n",
        "plt.legend(loc='best')\n",
        "plt.show(block=False)"
      ],
      "execution_count": null,
      "outputs": [
        {
          "output_type": "display_data",
          "data": {
            "image/png": "[encoded data removed]",
            "text/plain": [
              "<Figure size 432x288 with 1 Axes>"
            ]
          },
          "metadata": {
            "tags": [],
            "needs_background": "light"
          }
        }
      ]
    },
    {
      "cell_type": "code",
      "metadata": {
        "id": "p9ifmnBafBfN"
      },
      "source": [
        "df3=scaler.inverse_transform(df3).tolist()"
      ],
      "execution_count": null,
      "outputs": []
    },
    {
      "cell_type": "code",
      "metadata": {
        "colab": {
          "base_uri": "https://localhost:8080/",
          "height": 282
        },
        "id": "gNr1gp_DfBi2",
        "outputId": "442aef27-2e62-4b87-ef75-b790e7c21d4e"
      },
      "source": [
        "plt.plot(df3)"
      ],
      "execution_count": null,
      "outputs": [
        {
          "output_type": "execute_result",
          "data": {
            "text/plain": [
              "[<matplotlib.lines.Line2D at 0x7fac295f5f50>]"
            ]
          },
          "metadata": {
            "tags": []
          },
          "execution_count": 172
        },
        {
          "output_type": "display_data",
          "data": {
            "image/png": "[encoded data removed]",
            "text/plain": [
              "<Figure size 432x288 with 1 Axes>"
            ]
          },
          "metadata": {
            "tags": [],
            "needs_background": "light"
          }
        }
      ]
    }
  ]
}